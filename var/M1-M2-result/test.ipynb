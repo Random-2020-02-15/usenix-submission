{
 "cells": [
  {
   "cell_type": "code",
   "execution_count": 54,
   "metadata": {},
   "outputs": [
    {
     "name": "stdout",
     "output_type": "stream",
     "text": [
      "potrace-asan {'M0': 0.13005911778080947, 'M1': 0.055221596441861975, 'M2': 0.0540312134782035}\n",
      "autotrace-ubsan {'M0': 0.20574775764232112, 'M1': 0.45716094007232777, 'M2': 0.4864055499422534}\n",
      "lame-asan {'M0': 0.0945019014109536, 'M1': 0.1099468795322388, 'M2': 0.10994279687283959}\n",
      "imagew-ubsan {'M0': 0.26799659785046004, 'M1': 0.16139131805903584, 'M2': 0.17795771158558626}\n",
      "mp3gain-asan {'M0': 0.1156405990016639, 'M1': 0.04867530810780374, 'M2': 0.04820690241577008}\n",
      "tiff-ubsan {'M0': 0.12309826810831503, 'M1': 0.07391485183619484, 'M2': 0.07646082453724246}\n",
      "lame-ubsan {'M0': 0.23272619072920875, 'M1': 0.1484013187651253, 'M2': 0.16957679640072332}\n",
      "gm-asan {'M0': 0.01164861950967988, 'M1': 0.2072589774527771, 'M2': 0.20098350269266874}\n",
      "podofo-ubsan {'M0': 0.10933350063784841, 'M1': 0.1812155968946767, 'M2': 0.18826518468165832}\n",
      "jasper-ubsan {'M0': 0.12838278857257623, 'M1': 0.17276454057632717, 'M2': 0.19558952946727048}\n",
      "autotrace-asan {'M0': 0.12186588921282804, 'M1': 0.237926844908122, 'M2': 0.22352271562654824}\n",
      "libzip-asan {'M0': 0.0623493975903614, 'M1': 0.009330905010480062, 'M2': 0.00952267074527402}\n",
      "tiff-asan {'M0': 0.07734549516008937, 'M1': 0.0019246145747017218, 'M2': 0.002088569902270021}\n",
      "zzip-asan {'M0': 0.038176033934252396, 'M1': 0.1333333333333333, 'M2': 0.12869875222816396}\n"
     ]
    }
   ],
   "source": [
    "import numpy as np\n",
    "import os\n",
    "\n",
    "def analysis(filename):\n",
    "    result = {}\n",
    "    file = open(filename,\"r\")\n",
    "\n",
    "    Lines = file.readlines() \n",
    "    count = 0\n",
    "    # Strips the newline character \n",
    "    Data = []\n",
    "    for line in Lines: \n",
    "        Line = line.strip().split(\" \")\n",
    "        data_list = []\n",
    "        for i in range(8):\n",
    "            data_list.append(int(Line[i+1]))\n",
    "        data_mat = np.array(data_list)\n",
    "        if data_list[-2] > 0:\n",
    "            Data.append(data_mat)\n",
    "    Data = np.stack(Data,axis=0)\n",
    "    result[\"M0\"] = 1 - np.sum(Data[:,2]) / (np.sum(Data[:,0]))\n",
    "    result[\"M1\"] = 1 - np.sum(Data[:,5]) / (np.sum(Data[:,3]))\n",
    "    result[\"M2\"] = 1 - np.sum(Data[:,7]) / (np.sum(Data[:,6]))\n",
    "    return result\n",
    "\n",
    "dict = {}\n",
    "textfile = \"check2-L1.txt\"\n",
    "for file in os.listdir(\"./\"):\n",
    "    if file.endswith(\"san\"):\n",
    "        result = analysis(file +\"/\" + textfile)\n",
    "        dict[file] = result\n",
    "for i in dict.keys():\n",
    "    print(i,dict[i])"
   ]
  },
  {
   "cell_type": "markdown",
   "metadata": {},
   "source": [
    "# Get files from CVE"
   ]
  },
  {
   "cell_type": "code",
   "execution_count": 45,
   "metadata": {},
   "outputs": [],
   "source": [
    "import os\n",
    "file1_list = [\"podofo-0.9.4\",\"imageworsener-1.3.1\",\"lame-3.99.5\",\"lame-asan\",\"zziplib-0.13.62\",\\\n",
    "            \"libzip-1.2.0\",\"autotrace-0.31.1\",\"auto-ubsan\",\"tiff-4.0.7\",\"tiff-ubsan\",\"GraphicsMagick-1.3.26\",\\\n",
    "            \"jasper-ubsan\",\"potrace-1.2\",\"mp3gain\"]\n",
    "file2_list = [\"podofo-ubsan\",\"imagew-ubsan\",\"lame-ubsan\",\"lame-asan\",\"zzip-asan\",\\\n",
    "            \"libzip-asan\",\"autotrace-asan\",\"autotrace-ubsan\",\"tiff-asan\",\"tiff-ubsan\",\"gm-asan\",\\\n",
    "            \"jasper-ubsan\",\"potrace-asan\",\"mp3gain-asan\"]\n",
    "for i in range(len(file1_list)):\n",
    "    file1 = file1_list[i]\n",
    "    file2 = file2_list[i]\n",
    "    command = \"scp -r zhjiang@jiang.inf.ethz.ch:~/CVE/\" + file1 + \"/Cov/check2.txt ~/CVE/\" + file2 + \"/check2-L0.txt\"\n",
    "    os.system(command)\n"
   ]
  },
  {
   "cell_type": "markdown",
   "metadata": {},
   "source": [
    "# Get files from SPEC"
   ]
  },
  {
   "cell_type": "code",
   "execution_count": 55,
   "metadata": {},
   "outputs": [],
   "source": [
    "import os \n",
    "file_list = [\"401.bzip2\",\"429.mcf\",\"445.gobmk\",\"456.hmmer\",\"458.sjeng\",\\\n",
    "             \"462.libquantum\",\"433.milc\",\"470.lbm\",\"482.sphinx3\",\"444.namd\"]\n",
    "version_list = [\"0000\",\"0000\",\"0001\",\"0000\",\"0000\",\\\n",
    "               \"0000\",\"0000\",\"0000\",\"0000\",\"0000\"]\n",
    "for i in range(len(file_list)):\n",
    "    file1 = file_list[i]\n",
    "    version = version_list[i]\n",
    "    command = \"scp -r zhjiang@jiang.inf.ethz.ch:~/SPEC_CPU2006v1.0/benchspec/CPU2006/\" + \\\n",
    "    file1 + \"/run/build_peak_ethz_ubsan_L2.\" + version + \"/Cov/check2.txt ~/CVE/SPEC/\" + file1 + \"_L0.txt\"\n",
    "    os.system(command)\n"
   ]
  },
  {
   "cell_type": "code",
   "execution_count": 56,
   "metadata": {},
   "outputs": [],
   "source": [
    "import os\n",
    "file_list = [\"401.bzip2\",\"429.mcf\",\"445.gobmk\",\"456.hmmer\",\"458.sjeng\",\\\n",
    "             \"462.libquantum\",\"433.milc\",\"470.lbm\",\"482.sphinx3\",\"444.namd\"]\n",
    "version_list = [\"0001\",\"0000\",\"0001\",\"0000\",\"0000\",\\\n",
    " \"0000\",\"0000\",\"0000\",\"0000\",\"0000\"]\n",
    "for i in range(len(file_list)):\n",
    "    file1 = file_list[i]\n",
    "    version = version_list[i]\n",
    "    command = \"scp -r zhjiang@jiang.inf.ethz.ch:~/SPEC_CPU2006v1.0/benchspec/CPU2006/\" + \\\n",
    "    file1 + \"/run/build_peak_ethz_asan_L2.\" + version + \"/Cov/check2.txt ~/CVE/SPEC/\" + file1 + \"_asan_L0.txt\"\n",
    "    os.system(command)"
   ]
  },
  {
   "cell_type": "code",
   "execution_count": 58,
   "metadata": {},
   "outputs": [
    {
     "name": "stdout",
     "output_type": "stream",
     "text": [
      "470.lbm_L0.txt {'M0': 0.4824505424377792, 'M1': 0.9326390159704219, 'M2': 0.9247681652991058}\n",
      "456.hmmer_L0.txt {'M0': 0.10972394540942931, 'M1': 0.5903520132605633, 'M2': 0.6074583605676874}\n",
      "482.sphinx3_L0.txt {'M0': 0.2369876382563435, 'M1': 0.4534605848823945, 'M2': 0.45273494844884654}\n",
      "462.libquantum_L0.txt {'M0': 0.1560509554140127, 'M1': 0.007597936366467217, 'M2': 0.008273744242652259}\n",
      "429.mcf_L0.txt {'M0': 0.5181753385602281, 'M1': 0.4365113742163752, 'M2': 0.47631344166873035}\n",
      "458.sjeng_L0.txt {'M0': 0.1825281270681668, 'M1': 0.27015548041532267, 'M2': 0.2519529775110816}\n",
      "445.gobmk_L0.txt {'M0': 0.21599144803594728, 'M1': 0.24566604533277292, 'M2': 0.2329822840139102}\n",
      "433.milc_L0.txt {'M0': 0.4216542308302905, 'M1': 0.6261846214522064, 'M2': 0.6064471867266041}\n",
      "401.bzip2_L0.txt {'M0': 0.547707271885132, 'M1': 0.3506451351827936, 'M2': 0.3785485666933579}\n",
      "444.namd_L0.txt {'M0': 0.16034807388936945, 'M1': 0.526606964973842, 'M2': 0.5407635153767476}\n",
      "401.bzip2 {'M0': 0.547707271885132, 'M1': 0.3506451351827936, 'M2': 0.3785485666933579}\n",
      "429.mcf {'M0': 0.5181753385602281, 'M1': 0.4365113742163752, 'M2': 0.47631344166873035}\n",
      "445.gobmk {'M0': 0.21599144803594728, 'M1': 0.24566604533277292, 'M2': 0.2329822840139102}\n",
      "456.hmmer {'M0': 0.10972394540942931, 'M1': 0.5903520132605633, 'M2': 0.6074583605676874}\n",
      "458.sjeng {'M0': 0.1825281270681668, 'M1': 0.27015548041532267, 'M2': 0.2519529775110816}\n",
      "462.libquantum {'M0': 0.1560509554140127, 'M1': 0.007597936366467217, 'M2': 0.008273744242652259}\n",
      "433.milc {'M0': 0.4216542308302905, 'M1': 0.6261846214522064, 'M2': 0.6064471867266041}\n",
      "470.lbm {'M0': 0.4824505424377792, 'M1': 0.9326390159704219, 'M2': 0.9247681652991058}\n",
      "482.sphinx3 {'M0': 0.2369876382563435, 'M1': 0.4534605848823945, 'M2': 0.45273494844884654}\n",
      "444.namd {'M0': 0.16034807388936945, 'M1': 0.526606964973842, 'M2': 0.5407635153767476}\n"
     ]
    }
   ],
   "source": [
    "import numpy as np\n",
    "import os\n",
    "file_list = [\"401.bzip2\",\"429.mcf\",\"445.gobmk\",\"456.hmmer\",\"458.sjeng\",\\\n",
    "             \"462.libquantum\",\"433.milc\",\"470.lbm\",\"482.sphinx3\",\"444.namd\"]\n",
    "\n",
    "def analysis(filename):\n",
    "    result = {}\n",
    "    file = open(filename,\"r\")\n",
    "\n",
    "    Lines = file.readlines() \n",
    "    count = 0\n",
    "    # Strips the newline character \n",
    "    Data = []\n",
    "    for line in Lines: \n",
    "        Line = line.strip().split(\" \")\n",
    "        data_list = []\n",
    "        for i in range(8):\n",
    "            data_list.append(int(Line[i+1]))\n",
    "        data_mat = np.array(data_list)\n",
    "        if data_list[-2] > 0:\n",
    "            Data.append(data_mat)\n",
    "    Data = np.stack(Data,axis=0)\n",
    "    result[\"M0\"] = 1 - np.sum(Data[:,2]) / (np.sum(Data[:,0]))\n",
    "    result[\"M1\"] = 1 - np.sum(Data[:,5]) / (np.sum(Data[:,3]))\n",
    "    result[\"M2\"] = 1 - np.sum(Data[:,7]) / (np.sum(Data[:,6]))\n",
    "    return result\n",
    "\n",
    "dict = {}\n",
    "for file in os.listdir(\"./SPEC\"):\n",
    "    if not file.endswith(\"_asan_L0.txt\"):\n",
    "        if file.endswith(\"_L0.txt\"):\n",
    "            result = analysis(\"./SPEC/\" + file)\n",
    "            print(file, result)\n",
    "            dict[file[0:-7]] = result\n",
    "\n",
    "for i in file_list:\n",
    "    print(i,dict[i])"
   ]
  },
  {
   "cell_type": "code",
   "execution_count": 30,
   "metadata": {},
   "outputs": [
    {
     "name": "stdout",
     "output_type": "stream",
     "text": [
      "{'M0': 0.1987951807228916, 'M1': 0.03836046246420621, 'M2': 0.039134358367989175}\n"
     ]
    }
   ],
   "source": [
    "data = analysis(\"./libzip-asan/check2-test.txt\")\n",
    "print(data)"
   ]
  },
  {
   "cell_type": "code",
   "execution_count": 37,
   "metadata": {},
   "outputs": [
    {
     "name": "stdout",
     "output_type": "stream",
     "text": [
      "{'M0': 6562} 17272 0.3799212598425197\n"
     ]
    }
   ],
   "source": [
    "import numpy as np\n",
    "result = {}\n",
    "filename = \"bzip2-check.txt\"\n",
    "# filename = \"autotrace-check.txt\"\n",
    "# filename = \"autotrace-ubsan/check2-L2.txt\"\n",
    "# filename = \"imagew-check.txt\"\n",
    "# filename = \"imagew-ubsan/check2-L2.txt\"\n",
    "# filename = \"SPEC/401.bzip2_asan_L2.txt\"\n",
    "file = open(filename,\"r\")\n",
    "\n",
    "Lines = file.readlines() \n",
    "count = 0\n",
    "# Strips the newline character \n",
    "Data = []\n",
    "for line in Lines: \n",
    "    Line = line.strip().split(\" \")\n",
    "    data_list = []\n",
    "    for i in range(6):\n",
    "        data_list.append(int(Line[i+1]))\n",
    "    data_mat = np.array(data_list)\n",
    "    if data_list[-2] > 0:\n",
    "        Data.append(data_mat)\n",
    "Data = np.stack(Data,axis=0)\n",
    "result[\"M0\"] = np.sum(Data[:,0]) - np.sum(Data[:,2])\n",
    "print(result,np.sum(Data[:,0]),result[\"M0\"]/np.sum(Data[:,0]))"
   ]
  },
  {
   "cell_type": "code",
   "execution_count": 39,
   "metadata": {},
   "outputs": [
    {
     "data": {
      "text/plain": [
       "0.3799212598425197"
      ]
     },
     "execution_count": 39,
     "metadata": {},
     "output_type": "execute_result"
    }
   ],
   "source": [
    "25866 + 9056\n",
    "10404 - 6842\n",
    "17272 + 10926\n",
    "6562/17272"
   ]
  },
  {
   "cell_type": "code",
   "execution_count": 17,
   "metadata": {},
   "outputs": [
    {
     "data": {
      "text/plain": [
       "3382.724137931034"
      ]
     },
     "execution_count": 17,
     "metadata": {},
     "output_type": "execute_result"
    }
   ],
   "source": [
    "37.3/58*5260"
   ]
  },
  {
   "cell_type": "code",
   "execution_count": null,
   "metadata": {},
   "outputs": [],
   "source": []
  }
 ],
 "metadata": {
  "kernelspec": {
   "display_name": "Python 3",
   "language": "python",
   "name": "python3"
  },
  "language_info": {
   "codemirror_mode": {
    "name": "ipython",
    "version": 3
   },
   "file_extension": ".py",
   "mimetype": "text/x-python",
   "name": "python",
   "nbconvert_exporter": "python",
   "pygments_lexer": "ipython3",
   "version": "3.7.3"
  }
 },
 "nbformat": 4,
 "nbformat_minor": 2
}
