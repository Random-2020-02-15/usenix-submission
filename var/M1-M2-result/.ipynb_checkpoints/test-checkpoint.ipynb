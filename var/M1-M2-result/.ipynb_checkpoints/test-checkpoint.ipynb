{
 "cells": [
  {
   "cell_type": "code",
   "execution_count": 2,
   "metadata": {},
   "outputs": [
    {
     "name": "stdout",
     "output_type": "stream",
     "text": [
      "{'potrace-asan': {'M0': 0.25898135516143705, 'M1': 0.29961399171807823, 'M2': 0.27054207010149234}, 'autotrace-ubsan': {'M0': 0.3904448105436573, 'M1': 0.7892801271208602, 'M2': 0.7831564645120472}, 'lame-asan': {'M0': 0.40796815580907697, 'M1': 0.7472884242802481, 'M2': 0.7485774992507641}, 'imagew-ubsan': {'M0': 0.532977654063249, 'M1': 0.6130082517842157, 'M2': 0.6400807737946606}, 'mp3gain-asan': {'M0': 0.46006655574043265, 'M1': 0.7706238908453715, 'M2': 0.7843094404578715}, 'tiff-ubsan': {'M0': 0.2167735144962205, 'M1': 0.6163520787349728, 'M2': 0.6560185062777764}, 'lame-ubsan': {'M0': 0.4751227391553846, 'M1': 0.7352641735270848, 'M2': 0.7140205541788932}, 'gm-asan': {'M0': 0.05770402662541607, 'M1': 0.6557671058268106, 'M2': 0.6327864614850055}, 'podofo-ubsan': {'M0': 0.1517033690946734, 'M1': 0.538274506185977, 'M2': 0.6066659022529969}, 'jasper-ubsan': {'M0': 0.25867349500426773, 'M1': 0.7085781035439755, 'M2': 0.6960483576247464}, 'autotrace-asan': {'M0': 0.3565597667638484, 'M1': 0.726429852859479, 'M2': 0.7308187483089861}, 'libzip-asan': {'M0': 0.27771084337349394, 'M1': 0.3602546896477511, 'M2': 0.4490216795812503}, 'tiff-asan': {'M0': 0.29774758004467605, 'M1': 0.026031153005008245, 'M2': 0.02584050751822542}, 'zzip-asan': {'M0': 0.23860021208907745, 'M1': 0.9045454545454545, 'M2': 0.9026737967914439}}\n"
     ]
    }
   ],
   "source": [
    "import numpy as np\n",
    "import os\n",
    "\n",
    "def analysis(filename):\n",
    "    result = {}\n",
    "    file = open(filename,\"r\")\n",
    "\n",
    "    Lines = file.readlines() \n",
    "    count = 0\n",
    "    # Strips the newline character \n",
    "    Data = []\n",
    "    for line in Lines: \n",
    "        Line = line.strip().split(\" \")\n",
    "        data_list = []\n",
    "        for i in range(8):\n",
    "            data_list.append(int(Line[i+1]))\n",
    "        data_mat = np.array(data_list)\n",
    "        if data_list[-2] > 0:\n",
    "            Data.append(data_mat)\n",
    "    Data = np.stack(Data,axis=0)\n",
    "    result[\"M0\"] = 1 - np.sum(Data[:,2]) / (np.sum(Data[:,0]))\n",
    "    result[\"M1\"] = 1 - np.sum(Data[:,5]) / (np.sum(Data[:,3]))\n",
    "    result[\"M2\"] = 1 - np.sum(Data[:,7]) / (np.sum(Data[:,6]))\n",
    "    return result\n",
    "\n",
    "dict = {}\n",
    "textfile = \"check2-L2.txt\"\n",
    "for file in os.listdir(\"./\"):\n",
    "    if file.endswith(\"san\"):\n",
    "        result = analysis(file +\"/\" + textfile)\n",
    "        dict[file] = result\n",
    "print(dict)"
   ]
  },
  {
   "cell_type": "markdown",
   "metadata": {},
   "source": [
    "# Get files from CVE"
   ]
  },
  {
   "cell_type": "code",
   "execution_count": 51,
   "metadata": {},
   "outputs": [],
   "source": [
    "import os\n",
    "file1_list = [\"podofo-0.9.4\",\"imageworsener-1.3.1\",\"lame-3.99.5\",\"lame-asan\",\"zziplib-0.13.62\",\\\n",
    "            \"libzip-1.2.0\",\"autotrace-0.31.1\",\"auto-ubsan\",\"tiff-4.0.7\",\"tiff-ubsan\",\"GraphicsMagick-1.3.26\",\\\n",
    "            \"jasper-ubsan\",\"potrace-1.2\",\"mp3gain\"]\n",
    "file2_list = [\"podofo-ubsan\",\"imagew-ubsan\",\"lame-ubsan\",\"lame-asan\",\"zzip-asan\",\\\n",
    "            \"libzip-asan\",\"autotrace-asan\",\"autotrace-ubsan\",\"tiff-asan\",\"tiff-ubsan\",\"gm-asan\",\\\n",
    "            \"jasper-ubsan\",\"potrace-asan\",\"mp3gain-asan\"]\n",
    "for i in range(len(file1_list)):\n",
    "    file1 = file1_list[i]\n",
    "    file2 = file2_list[i]\n",
    "    command = \"scp -r zhjiang@jiang.inf.ethz.ch:~/CVE/\" + file1 + \"/Cov/check2.txt ~/CVE/\" + file2 + \"/check2-L2.txt\"\n",
    "    os.system(command)\n"
   ]
  },
  {
   "cell_type": "markdown",
   "metadata": {},
   "source": [
    "# Get files from SPEC"
   ]
  },
  {
   "cell_type": "code",
   "execution_count": 4,
   "metadata": {},
   "outputs": [],
   "source": [
    "import os \n",
    "file_list = [\"401.bzip2\",\"429.mcf\",\"445.gobmk\",\"456.hmmer\",\"458.sjeng\",\\\n",
    "             \"462.libquantum\",\"433.milc\",\"470.lbm\",\"482.sphinx3\",\"444.namd\"]\n",
    "version_list = [\"0000\",\"0000\",\"0001\",\"0000\",\"0000\",\\\n",
    "               \"0000\",\"0000\",\"0000\",\"0000\",\"0000\"]\n",
    "for i in range(len(file_list)):\n",
    "    file1 = file_list[i]\n",
    "    version = version_list[i]\n",
    "    command = \"scp -r zhjiang@jiang.inf.ethz.ch:~/SPEC_CPU2006v1.0/benchspec/CPU2006/\" + \\\n",
    "    file1 + \"/run/build_peak_ethz_ubsan_L2.\" + version + \"/Cov/check2.txt ~/CVE/SPEC/\" + file1 + \"_L2.txt\"\n",
    "    os.system(command)\n"
   ]
  },
  {
   "cell_type": "code",
   "execution_count": 6,
   "metadata": {},
   "outputs": [],
   "source": [
    "import os\n",
    "file_list = [\"401.bzip2\",\"429.mcf\",\"445.gobmk\",\"456.hmmer\",\"458.sjeng\",\\\n",
    "             \"462.libquantum\",\"433.milc\",\"470.lbm\",\"482.sphinx3\",\"444.namd\"]\n",
    "version_list = [\"0001\",\"0000\",\"0001\",\"0000\",\"0000\",\\\n",
    " \"0000\",\"0000\",\"0000\",\"0000\",\"0000\"]\n",
    "for i in range(len(file_list)):\n",
    "    file1 = file_list[i]\n",
    "    version = version_list[i]\n",
    "    command = \"scp -r zhjiang@jiang.inf.ethz.ch:~/SPEC_CPU2006v1.0/benchspec/CPU2006/\" + \\\n",
    "    file1 + \"/run/build_peak_ethz_asan_L2.\" + version + \"/Cov/check2.txt ~/CVE/SPEC/\" + file1 + \"_asan_L1.txt\"\n",
    "    os.system(command)"
   ]
  },
  {
   "cell_type": "code",
   "execution_count": 11,
   "metadata": {},
   "outputs": [
    {
     "name": "stdout",
     "output_type": "stream",
     "text": [
      "{'M0': 0.5808303886925795, 'M1': 0.34167331972524706, 'M2': 0.341644020193724}\n",
      "{'M0': 0.6092503987240829, 'M1': 0.599093159078623, 'M2': 0.6010188393267781}\n",
      "{'M0': 0.26576751826395195, 'M1': 0.40072760199510804, 'M2': 0.4097963727913124}\n",
      "{'M0': 0.13132064247471742, 'M1': 0.7043547508461907, 'M2': 0.7036741591612163}\n",
      "{'M0': 0.1337612323491656, 'M1': 0.32489458664942117, 'M2': 0.36202574965995427}\n",
      "{'M0': 0.22570532915360497, 'M1': 0.018988592162548334, 'M2': 0.023913410227242804}\n",
      "{'M0': 0.33516651390161933, 'M1': 0.8132634835644694, 'M2': 0.8268402198715508}\n",
      "{'M0': 0.7207792207792207, 'M1': 0.9243823344155516, 'M2': 0.9249789035305122}\n",
      "{'M0': 0.325103448275862, 'M1': 0.5875928329892256, 'M2': 0.5831376105485775}\n",
      "{'M0': 0.24005419386623972, 'M1': 0.6131347765635964, 'M2': 0.5772339394441064}\n"
     ]
    }
   ],
   "source": [
    "import numpy as np\n",
    "import os\n",
    "file_list = [\"401.bzip2\",\"429.mcf\",\"445.gobmk\",\"456.hmmer\",\"458.sjeng\",\\\n",
    "             \"462.libquantum\",\"433.milc\",\"470.lbm\",\"482.sphinx3\",\"444.namd\"]\n",
    "\n",
    "def analysis(filename):\n",
    "    result = {}\n",
    "    file = open(filename,\"r\")\n",
    "\n",
    "    Lines = file.readlines() \n",
    "    count = 0\n",
    "    # Strips the newline character \n",
    "    Data = []\n",
    "    for line in Lines: \n",
    "        Line = line.strip().split(\" \")\n",
    "        data_list = []\n",
    "        for i in range(8):\n",
    "            data_list.append(int(Line[i+1]))\n",
    "        data_mat = np.array(data_list)\n",
    "        if data_list[-2] > 0:\n",
    "            Data.append(data_mat)\n",
    "    Data = np.stack(Data,axis=0)\n",
    "    result[\"M0\"] = 1 - np.sum(Data[:,2]) / (np.sum(Data[:,0]))\n",
    "    result[\"M1\"] = 1 - np.sum(Data[:,5]) / (np.sum(Data[:,3]))\n",
    "    result[\"M2\"] = 1 - np.sum(Data[:,7]) / (np.sum(Data[:,6]))\n",
    "    return result\n",
    "\n",
    "dict = {}\n",
    "for file in os.listdir(\"./SPEC\"):\n",
    "    if not file.endswith(\"_asan_L2.txt\"):\n",
    "        if file.endswith(\"_L2.txt\")\"\"\n",
    "            result = analysis(\"./SPEC/\" + file)\n",
    "        dict[file[0:-12]] = result\n",
    "for i in file_list:\n",
    "    print(dict[i])"
   ]
  },
  {
   "cell_type": "code",
   "execution_count": null,
   "metadata": {},
   "outputs": [],
   "source": []
  }
 ],
 "metadata": {
  "kernelspec": {
   "display_name": "Python 3",
   "language": "python",
   "name": "python3"
  },
  "language_info": {
   "codemirror_mode": {
    "name": "ipython",
    "version": 3
   },
   "file_extension": ".py",
   "mimetype": "text/x-python",
   "name": "python",
   "nbconvert_exporter": "python",
   "pygments_lexer": "ipython3",
   "version": "3.7.3"
  }
 },
 "nbformat": 4,
 "nbformat_minor": 2
}
